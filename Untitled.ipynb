{
 "cells": [
  {
   "cell_type": "code",
   "execution_count": 1,
   "id": "6b023abf",
   "metadata": {},
   "outputs": [],
   "source": [
    "from enum import Enum"
   ]
  },
  {
   "cell_type": "code",
   "execution_count": 2,
   "id": "b9d1923b",
   "metadata": {},
   "outputs": [],
   "source": [
    "class Icon(Enum):\n",
    "    BLOG = 'fa-th-large'\n",
    "    CALENDAR = 'fa-calendar'\n",
    "    COMMENT = 'fa-comments'"
   ]
  },
  {
   "cell_type": "code",
   "execution_count": null,
   "id": "accf46d7",
   "metadata": {},
   "outputs": [],
   "source": [
    "s = Icon."
   ]
  },
  {
   "cell_type": "code",
   "execution_count": 6,
   "id": "1fb2adc3",
   "metadata": {},
   "outputs": [
    {
     "data": {
      "text/plain": [
       "<enum 'Icon'>"
      ]
     },
     "execution_count": 6,
     "metadata": {},
     "output_type": "execute_result"
    }
   ],
   "source": [
    "type(Icon.BLOG)"
   ]
  },
  {
   "cell_type": "code",
   "execution_count": 7,
   "id": "a863c561",
   "metadata": {},
   "outputs": [
    {
     "data": {
      "text/plain": [
       "str"
      ]
     },
     "execution_count": 7,
     "metadata": {},
     "output_type": "execute_result"
    }
   ],
   "source": [
    "type(str(Icon.BLOG))"
   ]
  },
  {
   "cell_type": "code",
   "execution_count": 4,
   "id": "8575b12c",
   "metadata": {},
   "outputs": [],
   "source": [
    "ICONS = {\n",
    "    'blog': 'fa-th-large',\n",
    "    'calendar': 'fa-calendar',\n",
    "    'comment': 'fa-comments'\n",
    "}"
   ]
  },
  {
   "cell_type": "code",
   "execution_count": 5,
   "id": "c079d24b",
   "metadata": {},
   "outputs": [
    {
     "data": {
      "text/plain": [
       "'fa-th-large'"
      ]
     },
     "execution_count": 5,
     "metadata": {},
     "output_type": "execute_result"
    }
   ],
   "source": [
    "ICONS['blog']"
   ]
  },
  {
   "cell_type": "code",
   "execution_count": null,
   "id": "4eb806ca",
   "metadata": {},
   "outputs": [],
   "source": []
  }
 ],
 "metadata": {
  "kernelspec": {
   "display_name": "Python 3",
   "language": "python",
   "name": "python3"
  },
  "language_info": {
   "codemirror_mode": {
    "name": "ipython",
    "version": 3
   },
   "file_extension": ".py",
   "mimetype": "text/x-python",
   "name": "python",
   "nbconvert_exporter": "python",
   "pygments_lexer": "ipython3",
   "version": "3.8.5"
  }
 },
 "nbformat": 4,
 "nbformat_minor": 5
}
